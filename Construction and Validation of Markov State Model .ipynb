{
 "cells": [
  {
   "cell_type": "code",
   "execution_count": 3,
   "metadata": {},
   "outputs": [],
   "source": [
    "import state_dicts\n",
    "import numpy as np\n",
    "import matplotlib.pyplot as plt\n",
    "import pandas as pd\n",
    "import evaluation_functions as ef"
   ]
  },
  {
   "cell_type": "code",
   "execution_count": 4,
   "metadata": {},
   "outputs": [],
   "source": [
    "path_phi = 'simulation_data/ad_angle_PHI.xvg'\n",
    "path_psi = 'simulation_data/ad_angle_PSI.xvg'\n",
    "# read in the files for psi and phi\n",
    "psi_raw = pd.read_csv(path_psi, header=None, skiprows=range(17), sep='\\s+')\n",
    "phi_raw = pd.read_csv(path_phi, header=None, skiprows=range(17), sep='\\s+')\n",
    "# change representation of angles to radians and get values of df\n",
    "psi = psi_raw.values\n",
    "psi[:, 1] *= 2*np.pi/360\n",
    "phi = phi_raw.values\n",
    "phi[:, 1] *= 2*np.pi/360\n"
   ]
  },
  {
   "cell_type": "code",
   "execution_count": 5,
   "metadata": {
    "code_folding": [
     4,
     27,
     68
    ]
   },
   "outputs": [],
   "source": [
    "# %load state_dicts.py\n",
    "import numpy as np\n",
    "\n",
    "\n",
    "def shrink_rec(rectangle, ds, where=['all']):\n",
    "    rec = np.array(rectangle.copy())\n",
    "    if len(rec.shape) == 3:\n",
    "        print('ohauaha')\n",
    "        for i, sub_rec in enumerate(rectangle):\n",
    "            rectangle[i] = shrink_rec(sub_rec, ds=ds, where=where)\n",
    "    # if not any([x == y]):\n",
    "    #    print('where must be one of the following:\\n\"{}\"\\n\"{}\"\\n\"{}\"\\n\"{}\"\\n\"{}\"'.format(\n",
    "    #    *['l', 'r', 'b', 't', 'all']))\n",
    "    if 'all' in where:\n",
    "        rec[:, 0] += ds\n",
    "        rec[:, 1] -= ds\n",
    "    if 'l' in where:\n",
    "        rec[0, 0] += ds\n",
    "    if 'r' in where:\n",
    "        rec[0, 1] -= ds\n",
    "    if 'b' in where:\n",
    "        rec[1, 0] += ds\n",
    "    if 't' in where:\n",
    "        rec[1, 1] -= ds\n",
    "    return rec.tolist()\n",
    "\n",
    "\n",
    "def change_core(rect_dict, ds):\n",
    "\n",
    "    # divide ds by 2 to get a distance of ds between new rectangle sides\n",
    "    ds = ds/2\n",
    "    new_rec_dict = rect_dict.copy()\n",
    "    state1_recs = new_rec_dict['state1']\n",
    "    st1_ul = shrink_rec(state1_recs[0], ds, ['b', 'r'])\n",
    "    st1_ur = shrink_rec(state1_recs[1], ds, ['b', 'l'])\n",
    "    st1_ll = shrink_rec(state1_recs[2], ds, ['t', 'r'])\n",
    "    st1_lr = shrink_rec(state1_recs[3], ds, ['t', 'l'])\n",
    "    new_rec_dict['state1'] = [st1_ul, st1_ur, st1_ll, st1_lr]\n",
    "\n",
    "    state2_recs = new_rec_dict['state2']\n",
    "    st2_u = shrink_rec(state2_recs[0], ds, ['l', 'r', 'b'])\n",
    "    st2_l = shrink_rec(state2_recs[1], ds, ['l', 'r', 't'])\n",
    "    new_rec_dict['state2'] = [st2_u, st2_l]\n",
    "\n",
    "    state3_recs = new_rec_dict['state3']\n",
    "    st3 = shrink_rec(state3_recs[0], ds, ['b', 't'])\n",
    "    new_rec_dict['state3'] = [st3]\n",
    "\n",
    "    return new_rec_dict\n",
    "\n",
    "\n",
    "# define rectangle(s) for state 1. put all lists in another list, called rec_list\n",
    "s1_rec_ul = [[-np.pi, -2.07], [1.3, np.pi]]\n",
    "s1_rec_ur = [[1.3, np.pi], [1.3, np.pi]]\n",
    "s1_rec_ll = [[-np.pi, -2.07], [-np.pi, -2]]\n",
    "s1_rec_lr = [[1.3, np.pi], [-np.pi, -2]]\n",
    "rec_list_s1 = [s1_rec_ul, s1_rec_ur, s1_rec_ll, s1_rec_lr]\n",
    "\n",
    "# define rectangle(s) for state 2. put all lists in another list, called rec_list\n",
    "s2_rec_u = [[-2.07, 1.3], [1.3, np.pi]]\n",
    "s2_rec_l = [[-2.07, 1.3], [-np.pi, -2]]\n",
    "rec_list_s2 = [s2_rec_u, s2_rec_l]\n",
    "\n",
    "# define rectangle(s) for state 3. put all lists in another list, called rec_list\n",
    "s3_rec = [[-np.pi, np.pi], [-2, 1.3]]\n",
    "rec_list_s3 = [s3_rec]\n",
    "\n",
    "# make dictionary where rect_dict['statei'] gives a list of the corresponding rectangles\n",
    "rect_dict_1 = {\n",
    "    'state1': rec_list_s1,\n",
    "    'state2': rec_list_s2,\n",
    "    'state3': rec_list_s3,\n",
    "}"
   ]
  },
  {
   "cell_type": "markdown",
   "metadata": {},
   "source": [
    "\\begin{align*}\n",
    "    \\textit{Final Project}\n",
    "\\end{align*}\n",
    "\n",
    "\\begin{align*}\n",
    "    \\text{Hannes Caesar}\n",
    "\\end{align*}"
   ]
  },
  {
   "cell_type": "markdown",
   "metadata": {},
   "source": [
    "# Introduction"
   ]
  },
  {
   "cell_type": "markdown",
   "metadata": {},
   "source": [
    "When simulating biological processes such as protein folding, a common problem is that physically relevant time scales are computationally hard to achieve. Additionally, even for relatively small structures, the obtained data in form of spatial trajectories can be overwhelmingly difficult to analyse.  \n",
    "One approach, towards a more statistical description are Markov State Models (MSM). When constructed right, Markov State Models give the ability to predict long term behaviour in a simplified description, which is humanly understandable.\n",
    "For this, some available input data, e.g. from a MD simulation, is taken and coarse grained to obtain a number of different states. These states are conformations of the investigated system, which appear to have significance. The definition of these states is the first challenge, when constructing a MSM.  \n",
    "In the second step this state model is parameterised with the rates with which the system changes between these states. A transition matrix is defined, containing the transition probabilities between the states. This matrix can than be used to predict the system's dynamics by propagating a probability vector, wgich describes the probabilities to find the system in a particular state at the start of the simulation.  \n",
    "  \n",
    "In this project, a simple MSM is created based on a MD simulation of alanine dipeptide (*Ac-Ala-NHCH3*), further abbreviated by \"AD\". The state definition is done via local metastable energy minima, which can be found by looking at the backbone dihedral angles $\\Phi$ and $\\Psi$ of AD. Based on these states, the transition matrix is constructed.  \n",
    "To validate, whether the system is described accurately, the model must be *Markovian*, meaning that is doesn't show any sign of a \"memory\". This means, that the evolution of the system after some time onwards, only depends on the state the system is in at that time and not on the states the system visited before. Two ways of checking this this condition will be presented. "
   ]
  },
  {
   "cell_type": "markdown",
   "metadata": {},
   "source": [
    "# MD simulation and data generation"
   ]
  },
  {
   "cell_type": "markdown",
   "metadata": {},
   "source": [
    "In the following, the simulation of alanine dipeptide (Ac-Ala-NHCH3), using the free software package *GROMACS* is described. The simulation was carried out at a temperature of $300 K$ in a water filled, cubic simulation box. The simulation was run for total time of $t_{sim} = 5ns$, using a time step of $dt=0.002 ps$ and the Amber ff99SB*-ILDN force field. Writing out the coordinates to the .xtc file every 100 steps, the resulting trajectory for the analysis has a temporal resolution of 5 frames/ns. "
   ]
  },
  {
   "cell_type": "markdown",
   "metadata": {},
   "source": [
    "Consequently, the total amount of steps was $n_{steps} = \\frac{t_{sim}}{dt} = 2.5\\cdot10^{6}$."
   ]
  },
  {
   "cell_type": "markdown",
   "metadata": {},
   "source": [
    "Together with the Task sheet the files \n",
    "* `ad.pdb` : protein data bank coordinate file of AD\n",
    "* `MD.mdp` : molecular dynamics parameter file, containing the necesseary parameters for the MD simulation\n",
    "* `SD.mdp` : molecular dynamics parameter file, containting the necesseary parameters for the steepest descent minimization  \n",
    "\n",
    "were provided.  \n",
    "The file preparations and up until the final MD simulation is described in the following 7 steps. (Reocurring flags are not described several times):"
   ]
  },
  {
   "cell_type": "markdown",
   "metadata": {},
   "source": [
    "1. First, the .pdb file is read and hydrogen atoms are added to the molecules. A structure file of the .gro format and a topology file are created, for which a force field and a water model need to be selected.  \n",
    "\n",
    "   **gmx pdb2gmx -f ad.pdb -o ad.gro -p ad.top**\n",
    "    * -f : specifies the input file\n",
    "    * -o : specifies the output file\n",
    "    * -p : specifies the topology file  \n",
    "    \n",
    "   After excecuting the above command, you get prompted to select a force field. The force field Amber ff99SB*-ILDN (AMBER99SB-ILDN) (#6) is chosen. Then the static water model TIP3P (#1) is chosen. \n",
    "    \n",
    "2. In the second step, the peptide is centered in a cubic simulation box and aligned with its principal axes along the coordinate axes.  \n",
    "\n",
    "    **gmx editconf -bt cubic -f ad.gro -c -princ -d 0.6 -o ad_box.gro**\n",
    "    \n",
    "    * -bt : define box geometry\n",
    "    * -c : puts geometric center of molecule at (0,0,0) (redundant, because \"-d\" implies \"-c\")\n",
    "    * -princ : aligns principal axes of molecule along the coordinate axes.\n",
    "    * -d : adjusts system dimension such that the shortest distance between the molecule and the box is -d  \n",
    "   \n",
    "   In the output structure file `ad_box.gro`, the box dimension was found to be $1.91896\\text{nm}$, which is more than two times the cutoff radius $r_{vdw}=0.9{nm}$. \n",
    "3. Afterwards the box is filled with water and the topology file `ad.top` is updated. \n",
    "\n",
    "    **gmx solvate -cp ad_box.gro -cs -o ad_box_water.gro -p ad.top**\n",
    "    * -cp : input coordinate file, used as the **solvate**. \n",
    "    * -cs : input **solvent** file. default is SPC (Simple PointCharge water)\n",
    "\n",
    "4. To prepare a .tpr file, whis is later going to be used for a simulation, the `grompp` comand is used. It reads in a topology file together with the coordinate file and the relevant MD parameter. First, the previously generated coordinate file `ad_box_water.gro` is read to prepare a run input file for a steepest descent minimization of the atom positions.\n",
    "\n",
    "    **gmx grompp -f SD.mdp -c ad_box_water.gro -p ad.top -o ad_water_SDmin.tpr**\n",
    "    * -c : coordinate file\n",
    " \n",
    "5. To minimize the energy a short simulation is run. All relevant information are contained in the previuously generated file `ad_water_SDmin.tpr`, which can be used as the input file for the `mdrun` command. \n",
    "\n",
    "   **gmx mdrun -v -deffnm ad_water_SDmin**\n",
    "   \n",
    "   * -v : verbose(show more information) or in gromacs' words: \"Be loud and noisy.\"\n",
    "   * -deffnm : sets file name (without extension) for all file options (inputs/outputs)\n",
    "   \n",
    "6. In analogy to steps (4) and (5), in steps (6) and (7), a .tpr file is generated with `grompp`, which is then used as an input file for the MD simulation. The main difference is, that the coordinate file for the `grompp` command contains the coordinates after SD minimization and the parameters for the simulations are the ones from `MD.mdp`. \n",
    "\n",
    "    **gmx grompp -f MD.mdp -c ad_box_water_SDmin.gro -p ad.top -o ad_water_MD.tpr** \n",
    "    \n",
    "    \n",
    "    \n",
    "7. **gmx mdrun -v -deffnm ad_water_MD**"
   ]
  },
  {
   "cell_type": "markdown",
   "metadata": {},
   "source": [
    "## Calculation of dihedral angles "
   ]
  },
  {
   "cell_type": "markdown",
   "metadata": {},
   "source": [
    "Below is an image of the investigated alanine dipetide, taken from the molecular visualisation program *VMD*. The relevant atoms as well as the two dihedral angles are labelled."
   ]
  },
  {
   "cell_type": "code",
   "execution_count": 1,
   "metadata": {},
   "outputs": [
    {
     "data": {
      "image/png": "[encoded data removed]",
      "text/plain": [
       "<PIL.PngImagePlugin.PngImageFile image mode=RGB size=472x431 at 0x5C83AD8>"
      ]
     },
     "execution_count": 1,
     "metadata": {},
     "output_type": "execute_result"
    }
   ],
   "source": [
    "from PIL import Image\n",
    "Image.open('Dihedral_VMD_AD.png')"
   ]
  },
  {
   "cell_type": "markdown",
   "metadata": {},
   "source": [
    "A dihedral angle is the angle between to intersecting planes. To calculate such an angle in a molecule, two sets of each 3 atoms need to be specified, where two atoms of both sets are identical and the other ones are different. With these two sets two planes are constructed and an angle between them is then defined via their surface normals. Since two atoms of the sets are the same, a change of the dihedral angle can be seen as a rotation around the intersecting line of the two planes. This rotational axis is therefore defined by the line that connects the two common atoms of the two sets.  \n",
    "\n",
    "In proteins, $\\Phi$ and $\\Psi$ form a pairs of dihedral angles along the backbone chain. Here the rotational axis of $\\Phi$ is defined as the connecting line between a $C_\\alpha$ atom and its neighbouring nitrogen ($N$)atom. The rotational axis of $\\Psi$ is the connecting line between $C_\\alpha$ (CA in the above image) and the neighbouring carbon ($C$) atom of the backbone chain. The AD molecule has only one pair ($\\Psi$,$\\Phi$) of dihedrals, shown in the image above.\n",
    "\n",
    "To calculate dihedral angles using the gromacs command **gmx angle**, the index file need to contain groups with 4 indices. These 4 atom indices specifiy the two planes, as described above. The first 3 entries are the set of atoms for the first plane and the last 3 entries are the set of atoms for the second plane. So in order to calculate both $\\Phi$ and $\\Psi$, and index file with two groups needs to be created.  \n",
    "The atom indices of the labelled atoms are (left to right) as shown above are:$[5, 7, 9, 15, 17]$  \n",
    "Therefore the two groups in the index `dihedral_ndx` are defined as follows:  \n",
    "[ Phi ]  \n",
    "5 7 9 15  \n",
    "\n",
    "[ Psi ]  \n",
    "7 9 15 17  \n",
    "\n",
    "With this, the following command was used to generate two .xvg files containing the evolution of the respective angle. \n",
    "**gmx angle -f ad_water_MD.xtc -n dihedral_idx.ndx -type dihedral -ov ad_angle_PHI/PSI.xvg**\n",
    "* -f : xtc file contains the coordinates of the system at each point of the MD trajectory\n",
    "* -n : index file with the two index groups\n",
    "* -type : type of angle which shall be calculated\n",
    "* -ov : output file \n"
   ]
  },
  {
   "cell_type": "markdown",
   "metadata": {},
   "source": [
    "## Ramachandran plot"
   ]
  },
  {
   "cell_type": "markdown",
   "metadata": {},
   "source": [
    "Due to the geometry of petides and larger protein structures not all possible combinations of phi and psi are energetically favourable. A Ramachandran plot is a way of visualizing low energy states by plotting occupation of the whole (periodic) $\\Phi$-$\\Psi$-space. Energetically low regions will be higher populated when compared to energetically higher regions. "
   ]
  },
  {
   "cell_type": "markdown",
   "metadata": {},
   "source": [
    "Below, the two xvg files are read into a pandas dataframe and the values are extracted into a numpy array. Gromacs gives angles in degrees. The angle values (in the second column) are converted to radians. "
   ]
  },
  {
   "cell_type": "code",
   "execution_count": 6,
   "metadata": {},
   "outputs": [],
   "source": [
    "path_phi = 'simulation_data/ad_angle_PHI.xvg'\n",
    "path_psi = 'simulation_data/ad_angle_PSI.xvg'\n",
    "# read in the files for psi and phi\n",
    "psi_raw = pd.read_csv(path_psi, header=None, skiprows=range(17), sep='\\s+')\n",
    "phi_raw = pd.read_csv(path_phi, header=None, skiprows=range(17), sep='\\s+')\n",
    "# change representation of angles to radians and get values of df\n",
    "psi = psi_raw.values\n",
    "psi[:, 1] *= 2*np.pi/360\n",
    "phi = phi_raw.values\n",
    "phi[:, 1] *= 2*np.pi/360\n"
   ]
  },
  {
   "cell_type": "markdown",
   "metadata": {},
   "source": [
    "The function `ramachandran_plot` plots a 2D histogram of based on the trajectories of angles $\\Phi(t)$ and $\\Psi(t)$. In addition, a vertical and horizontal line are plotted and the occupation probability along these lines are shown. With the parameter **xy_idx** the constant x and y values of the vertical and horizontal line can be defined in relative coordinates."
   ]
  },
  {
   "cell_type": "code",
   "execution_count": 21,
   "metadata": {
    "scrolled": false
   },
   "outputs": [
    {
     "data": {
      "image/png": "[encoded data removed]",
      "text/plain": [
       "<Figure size 864x360 with 3 Axes>"
      ]
     },
     "metadata": {
      "needs_background": "light"
     },
     "output_type": "display_data"
    }
   ],
   "source": [
    "plot = ef.ramachandran_plot(phi, psi, xy_idx=[0.29, 0.44])"
   ]
  },
  {
   "cell_type": "markdown",
   "metadata": {},
   "source": [
    "The Ramachandran plot clearly shows three minima, where two of them are next to each other and the third one is a bit seperated. The centers of the first and the second minima lie at values of about $(\\Phi_1,\\Psi_1) = (-2.45, 2.63)$ and $(\\Phi_2,\\Psi_2) = (-1.26, 2.63)$, with the unit being radiant.  \n",
    "The Third minima doesnt show a clear center but shows the highest occupation probability at a value of around $(\\Phi_3,\\Psi_3) = (-1.39, -0.38)$.  \n",
    "  \n",
    "While The first two minima show a clear center of highest occupation probability, it is hard to make out a clear barrier between them. Between the upper minima (1,2) and the one in the middel (3), in a range where $0.5\\text{rad} < \\Psi < 2\\text{rad}$, the occupation probability is much smaller than at the centers but never really becomes zero. Therefore it is also not completely clear where the boundary between these states lies. \n",
    "  \n",
    "The states 1 and 2 extend over the \"boundary\" of the plot and continue at the bottom. In the range of $-2.8\\text{rad} < \\Psi < -2.5\\text{rad}$ there are points that had been visited during the simulation. Consequently, there is a clear line, where minima 3 ends and 1/2 begin. The same apllies for ther area on the right of the minima. "
   ]
  },
  {
   "cell_type": "markdown",
   "metadata": {},
   "source": [
    "# Markov state Model "
   ]
  },
  {
   "cell_type": "markdown",
   "metadata": {},
   "source": [
    "##### TODO\n",
    "Like mentioned in the beginning, the first "
   ]
  },
  {
   "cell_type": "markdown",
   "metadata": {},
   "source": [
    "## State definitions"
   ]
  },
  {
   "cell_type": "markdown",
   "metadata": {},
   "source": [
    "In order to generate a MSM, the time evolutions of $\\phi$ and $\\psi$ need to be combined to obtain a trajectory of states, $s(t)$. Therefore the $\\phi$/$\\psi$-plane, as shown above, is divided into rectangles and the rectangles are assigned to different states. That way, each point $(\\Phi , \\Psi)$ in the plane lies in only one rectangle and can therefore clearly be assigned to one of the defined states of the system. The state trajectory $s(t)\\in\\{1,2,3\\}$ is then defined so that for each point in time it contains the state, the system was in at that time.\n",
    "$s(t)$ could look something like this:\n",
    "\\begin{align*}\n",
    "    s(t) = \n",
    "    \\left[\n",
    "        \\begin{array}{cc}\n",
    "            t_1 & 1\\\\\n",
    "            t_2 & 3\\\\\n",
    "            t_3 & 3\\\\\n",
    "            \\cdot & \\cdot\\\\\n",
    "            \\cdot & \\cdot\\\\\n",
    "            \\cdot & \\cdot\\\\\n",
    "            t_N & 2\n",
    "        \\end{array}\n",
    "    \\right]\n",
    "\\end{align*}  \n",
    "  \n",
    "Looking at the occupation probabilities in the ramachandran plot, three different states are defined. Since the observables are periodic within $2\\pi$, the rectangles need to be defined periodically as well.\n",
    "\n",
    "The code below shows, how the states are defined. All rectangles are described with a list of two lists, describing the 4 corner of the rectangles, $[[\\Phi_{min}, \\Phi_{max}],[\\Psi_{min}, \\Psi_{max}]]$. All rectangles belonging to the same state are put into another list and then stored in a dictionary, called **rect_dict_1**. "
   ]
  },
  {
   "cell_type": "code",
   "execution_count": 23,
   "metadata": {
    "code_folding": [
     4,
     27
    ]
   },
   "outputs": [],
   "source": [
    "# %load state_dicts.py\n",
    "import numpy as np\n",
    "\n",
    "\n",
    "def shrink_rec(rectangle, ds, where=['all']):\n",
    "    rec = np.array(rectangle.copy())\n",
    "    if len(rec.shape) == 3:\n",
    "        print('ohauaha')\n",
    "        for i, sub_rec in enumerate(rectangle):\n",
    "            rectangle[i] = shrink_rec(sub_rec, ds=ds, where=where)\n",
    "    # if not any([x == y]):\n",
    "    #    print('where must be one of the following:\\n\"{}\"\\n\"{}\"\\n\"{}\"\\n\"{}\"\\n\"{}\"'.format(\n",
    "    #    *['l', 'r', 'b', 't', 'all']))\n",
    "    if 'all' in where:\n",
    "        rec[:, 0] += ds\n",
    "        rec[:, 1] -= ds\n",
    "    if 'l' in where:\n",
    "        rec[0, 0] += ds\n",
    "    if 'r' in where:\n",
    "        rec[0, 1] -= ds\n",
    "    if 'b' in where:\n",
    "        rec[1, 0] += ds\n",
    "    if 't' in where:\n",
    "        rec[1, 1] -= ds\n",
    "    return rec.tolist()\n",
    "\n",
    "\n",
    "def change_core(rect_dict, ds):\n",
    "\n",
    "    # divide ds by 2 to get a distance of ds between new rectangle sides\n",
    "    ds = ds/2\n",
    "    new_rec_dict = rect_dict.copy()\n",
    "    state1_recs = new_rec_dict['state1']\n",
    "    st1_ul = shrink_rec(state1_recs[0], ds, ['b', 'r'])\n",
    "    st1_ur = shrink_rec(state1_recs[1], ds, ['b', 'l'])\n",
    "    st1_ll = shrink_rec(state1_recs[2], ds, ['t', 'r'])\n",
    "    st1_lr = shrink_rec(state1_recs[3], ds, ['t', 'l'])\n",
    "    new_rec_dict['state1'] = [st1_ul, st1_ur, st1_ll, st1_lr]\n",
    "\n",
    "    state2_recs = new_rec_dict['state2']\n",
    "    st2_u = shrink_rec(state2_recs[0], ds, ['l', 'r', 'b'])\n",
    "    st2_l = shrink_rec(state2_recs[1], ds, ['l', 'r', 't'])\n",
    "    new_rec_dict['state2'] = [st2_u, st2_l]\n",
    "\n",
    "    state3_recs = new_rec_dict['state3']\n",
    "    st3 = shrink_rec(state3_recs[0], ds, ['b', 't'])\n",
    "    new_rec_dict['state3'] = [st3]\n",
    "\n",
    "    return new_rec_dict\n",
    "\n",
    "\n",
    "# define rectangle(s) for state 1. put all lists in another list, called rec_list\n",
    "s1_rec_ul = [[-np.pi, -1.95], [1.3, np.pi]]\n",
    "s1_rec_ur = [[1.3, np.pi], [1.3, np.pi]]\n",
    "s1_rec_ll = [[-np.pi, -1.95], [-np.pi, -2]]\n",
    "s1_rec_lr = [[1.3, np.pi], [-np.pi, -2]]\n",
    "rec_list_s1 = [s1_rec_ul, s1_rec_ur, s1_rec_ll, s1_rec_lr]\n",
    "\n",
    "# define rectangle(s) for state 2. put all lists in another list, called rec_list\n",
    "s2_rec_u = [[-1.95, 1.3], [1.3, np.pi]]\n",
    "s2_rec_l = [[-1.95, 1.3], [-np.pi, -2]]\n",
    "rec_list_s2 = [s2_rec_u, s2_rec_l]\n",
    "\n",
    "# define rectangle(s) for state 3. put all lists in another list, called rec_list\n",
    "s3_rec = [[-np.pi, np.pi], [-2, 1.3]]\n",
    "rec_list_s3 = [s3_rec]\n",
    "\n",
    "# make dictionary where rect_dict['statei'] gives a list of the corresponding rectangles\n",
    "rect_dict_1 = {\n",
    "    'state1': rec_list_s1,\n",
    "    'state2': rec_list_s2,\n",
    "    'state3': rec_list_s3,\n",
    "}"
   ]
  },
  {
   "cell_type": "markdown",
   "metadata": {},
   "source": [
    "Below is a visualization of the defined states via rectangles. The function `visualize_states` from *evaluation_functions.py* is used. Rectangles of the same color belong to the same state and are the state assignment is done above the boundaries of the shown $\\Phi/\\Psi$-plane."
   ]
  },
  {
   "cell_type": "code",
   "execution_count": 24,
   "metadata": {
    "scrolled": false
   },
   "outputs": [
    {
     "data": {
      "image/png": "[encoded data removed]",
      "text/plain": [
       "<Figure size 432x288 with 1 Axes>"
      ]
     },
     "metadata": {
      "needs_background": "light"
     },
     "output_type": "display_data"
    }
   ],
   "source": [
    "ef.visualize_states(rect_dict_1, phi, psi, color_list=['r', 'g', 'y'])"
   ]
  },
  {
   "cell_type": "markdown",
   "metadata": {},
   "source": [
    "The function `make_state_traj` is now used to generate a state trajectory according to the state definition above. It takes as inputs the two time evolutions of the angle and a state dictionary of the format, as described above. It then returns the time evolution of the system's state. "
   ]
  },
  {
   "cell_type": "code",
   "execution_count": 25,
   "metadata": {},
   "outputs": [],
   "source": [
    "s_1 = ef.make_state_traj(phi, psi, rect_dict_1, core_def=False)"
   ]
  },
  {
   "cell_type": "markdown",
   "metadata": {},
   "source": [
    "## Transition matrices\n",
    "The basic concept (???? vllt besser: geht das immer? oder wann geht das, dass man MSM anwendet?) of a Markov State Model ((as described above??)), is to describe the time evolution of the system as transitions between well defined states. The probabilities of these transitions are defined by transition matrices. \n",
    "  \n",
    "Given a probability vector \n",
    "\\begin{align*}\n",
    "\\vec{p}(t) = \n",
    "    \\left[\n",
    "        \\begin{array}{c}\n",
    "            p_1(t)\\\\\n",
    "            p_2(t)\\\\\n",
    "            p_3(t)\\\\\n",
    "        \\end{array}\n",
    "    \\right]\n",
    "\\end{align*}\n",
    "with $\\sum_ip_i = 1$, where $p_i(t)$ is the probability to be in state i at the time t, a transition matrix $T(\\tau)$ can be used to calculate the probability vector  $\\vec{p}(t+\\tau)$ after some time $\\tau$ by multiplying $T(\\tau)$ from the right. A transition matrix is therefore characterised by its lag time $\\tau$. When constructing $T(\\tau)$ from a state trajectory $s(t)$ all pairs $(s_1(t_1), s_2(t_2)) \\in s(t)$  along the trajectory with a time difference $t_2-t_1=\\tau$ are evaluated as a state transition $s_1 \\rightarrow s_2$.   \n",
    "In experiments and simulations, $s(t)$ will always be discretised in time. Considering a state trajectory with a time difference, $dt$, between recorded frames, the number of such transitions from some state i to j during the observation time $t_{total}$ can be formally written as \n",
    "\n",
    "\\begin{align*}\n",
    "    N_{ij}(\\tau) &= \\sum_{t=t_0}^{t_{total}-\\tau}\\delta_{s(t),i}\\delta_{s(t+\\tau),j}\\\\\n",
    "                 &= \\sum_{n_t=0}^{N-n_{tau}}\\delta_{s(n_t\\cdot dt),i}\\delta_{s((n_t+n_{tau})\\cdot dt),j}\\\\\n",
    "                 &= \\sum_{n_t=0}^{N-n_{tau}}\\delta_{s(n_t),i}\\delta_{s(n_t+n_{tau}),j}\n",
    "\\end{align*}\n",
    "\n",
    "where we used $N=\\frac{t_{total}}{dt}$ and $n_{tau} = \\frac{\\tau}{dt}$. Since the sampling rate is assumed to be constant $dt$ was omitted in the last step. Here, $\\delta_{s(n_t), i}$ is the Kronecker-Delta which is $1$ if the system was in state $i$ at the time $t=n_t dt$ and otherwise is $0$.\n",
    "\n",
    "By normalizing the rows we get the probabilities\n",
    "\\begin{equation}\\label{eq:p_ij}\n",
    "    P_{ij} = P_{i\\rightarrow j} = \\frac{N_{ij}(\\tau)}{\\sum_{j=1}^{3}N_{ij}(\\tau)}\n",
    "\\end{equation}\n",
    "to observe a transition,$i \\rightarrow j$, from state $i$ to state $j$. \n",
    "With this the transition matrix "
   ]
  },
  {
   "cell_type": "markdown",
   "metadata": {},
   "source": [
    "\\begin{align}\n",
    "    T(\\tau) =\n",
    "    \\left( \n",
    "        \\begin{array}{ccc}\n",
    "               P_{11}(\\tau)  & P_{12}(\\tau) & P_{13}(\\tau) \\\\\n",
    "               P_{21}(\\tau)  & P_{22}(\\tau) & P_{23}(\\tau)\\\\\n",
    "               P_{31}(\\tau)  & P_{32}(\\tau) & P_{33}(\\tau)\\\\\n",
    "        \\end{array}\n",
    "    \\right)\n",
    "\\end{align}\n",
    "\n",
    "can be defined and used to propagate $p$.\n",
    "\n",
    "\\begin{align}\n",
    "    p(t+\\tau) & = &  (p_1(t), p_2(t), p_3(t))\n",
    "    \\left( \n",
    "        \\begin{array}{ccc}\n",
    "               P_{11}(\\tau)  & P_{12}(\\tau) & P_{13}(\\tau) \\\\\n",
    "               P_{21}(\\tau)  & P_{22}(\\tau) & P_{23}(\\tau)\\\\\n",
    "               P_{31}(\\tau)  & P_{32}(\\tau) & P_{33}(\\tau)\\\\\n",
    "        \\end{array}\n",
    "    \\right)\\\\ \\\\\n",
    "           & = & \\left(\n",
    "                \\begin{array}{c}\n",
    "                    p_1(t)P_{11}(\\tau) + p_2(t)P_{21}(\\tau) + p_3(t)P_{31} \\\\\n",
    "                    p_1(t)P_{12}(\\tau) + p_2(t)P_{22}(\\tau) + p_3(t)P_{32} \\\\\n",
    "                    p_1(t)P_{13}(\\tau) + p_2(t)P_{23}(\\tau) + p_3(t)P_{33} \\\\\n",
    "                 \\end{array}\n",
    "              \\right)^T\n",
    "\\end{align}\n",
    "\n",
    "The propagated vector $p(t+\\tau)$ is again a probability vector. Looking at the first entry, ones sees, that the probablity to be in state $1$ after some time $t+\\tau$ is the sum of the probabilities to go into that state $P_{i1}$ from any of the other states multiplied with the probabilities with which the the system was in that state at time $t$. Same holds for the other entries and gives a good intuition on what the transition matrix $T(\\tau)$ is doing, when applied on a probability vector.  "
   ]
  },
  {
   "cell_type": "markdown",
   "metadata": {},
   "source": [
    "###### A few things to note about transition matrices $T$:\n",
    "1. By definition the rows of $T$ sum up to $1$: $\\sum^3_{j=1}T_{ij} = 1$  \n",
    "    and are therfore probability vector. \n",
    "2. $T$ has the an eigenvalue of $\\lambda_1=1$. Because of 1.) $T^T$ has the eigenvector $(1,1,1)^T$ with an eigenvalue of $1$. Since $T^T-\\lambda I_3$ has the same determinant as $T-\\lambda I_3$, the matrix $T$ also has an eigenvalue of $\\lambda_1=1$\n",
    "3. It can easily be shown, that if $T$ is transition matrix, that $T^m$ for any $m \\in \\mathbb{N}$ is also a transition matrix. \n",
    "4. $\\lambda_1$ is the largest eigenvalue. This follows from the fact that $T^m$ is also a probabiliy matrix and is not further discussed here. \n",
    "5. If $T$ has 3 pairwise different eigenvalues $\\{\\lambda_1, \\lambda_2, \\lambda_3\\}$, than their exists a ortonormal basis $B=\\{v^{(1)},v^{(2)},v^{(3)}\\}$ of eigenvectors. This means, that $T$ can be diagonalised, more specifically it exists a matrix $P$, which is invertible with $P^{-1}TP = D_T =diag(\\lambda_1, \\lambda_2, \\lambda_3)$. In this case $P$ is the transition matrix for the change of basis between $B$ and the standard basis $S$."
   ]
  },
  {
   "cell_type": "markdown",
   "metadata": {},
   "source": [
    "The propagation of a probability vector $p$ as described above can also be described within the basis $B$, leading to a much more simplified expression.  \n",
    "If $p_S = (p_1, p_2, p_3)$ is the representation of $p$ in the basis $S$ the corresponding representation in $B$ is given by $p_B = (u_1, u_2, u_3)$, where $p_S = u_1v^{(1)} + u_2v^{(2)} + u_3v^{(3)}$. Applying $D_T$ yields: \n",
    "\\begin{align}\n",
    "    p_B(t+\\tau) = (u_1, u_2, u_3)\\cdot \n",
    "    \\left( \n",
    "        \\begin{array}{ccc}\n",
    "               \\lambda_1(\\tau) & 0 & 0 \\\\\n",
    "               0 & \\lambda_2(\\tau) & 0 \\\\\n",
    "               0 & 0 & \\lambda_3(\\tau) \\\\\n",
    "        \\end{array}\n",
    "    \\right)\n",
    "    = (\\lambda_1(\\tau)u_1, \\lambda_1(\\tau)u_2, \\lambda_1(\\tau)u_3)\n",
    "\\end{align}\n",
    "\n",
    "Consequently, in this representaion, applying $T(\\tau)$ $m$ times corresponds to multiplying by the eigenvalues $\\lambda_i$ of $T$ $m$ times."
   ]
  },
  {
   "cell_type": "markdown",
   "metadata": {},
   "source": [
    "### Implied time scales "
   ]
  },
  {
   "cell_type": "markdown",
   "metadata": {},
   "source": [
    "In biological systems, there are many conformational changes happening all the time. In order to have a good description, the lag time $\\tau$ needs to be chosen correctly. If it is too short it might mistake fluctuations of the structure for acutal state transitions. On the other hand, transitions to other states should take longer thant $\\tau$ so they can be correctly detected. \n",
    "  \n",
    "The eigenvalue spectrum of $T(\\tau)$ gives means to evaluate whether the model is behaving markovian or not. The time scales on which the system changes between states, which are implied by the model, should be independent of the model paramteter $\\tau$. Hence, if the model is in fact markovian, the time scales\n",
    "\\begin{equation}\\label{eq:}\n",
    "    t_{impl, i}(\\tau) = = \\frac{\\tau}{ln(\\lambda_i(\\tau))}\n",
    "\\end{equation}\n",
    "should become constant. Since the biggest eigenvalue is $\\lambda_1 = 1$, meaning that the system is not changing after applying the transition matrix, we look at the slowest time scale by checking the above equation for the second largest eigenvalue $\\lambda_2$.  "
   ]
  },
  {
   "cell_type": "markdown",
   "metadata": {},
   "source": [
    "The function `plot_timp` takes two ranges of lag times (in form of integer multiples of $d$) and plots them together. "
   ]
  },
  {
   "cell_type": "code",
   "execution_count": 3,
   "metadata": {},
   "outputs": [
    {
     "ename": "NameError",
     "evalue": "name 'np' is not defined",
     "output_type": "error",
     "traceback": [
      "\u001b[1;31m---------------------------------------------------------------------------\u001b[0m",
      "\u001b[1;31mNameError\u001b[0m                                 Traceback (most recent call last)",
      "\u001b[1;32m<ipython-input-3-0ce8ba884148>\u001b[0m in \u001b[0;36m<module>\u001b[1;34m\u001b[0m\n\u001b[1;32m----> 1\u001b[1;33m \u001b[0mtau_range_1\u001b[0m \u001b[1;33m=\u001b[0m \u001b[0mnp\u001b[0m\u001b[1;33m.\u001b[0m\u001b[0marange\u001b[0m\u001b[1;33m(\u001b[0m\u001b[1;36m1\u001b[0m\u001b[1;33m,\u001b[0m \u001b[1;36m250\u001b[0m\u001b[1;33m,\u001b[0m \u001b[1;36m5\u001b[0m\u001b[1;33m)\u001b[0m\u001b[1;33m\u001b[0m\u001b[1;33m\u001b[0m\u001b[0m\n\u001b[0m\u001b[0;32m      2\u001b[0m \u001b[0mtau_range_2\u001b[0m \u001b[1;33m=\u001b[0m \u001b[0mnp\u001b[0m\u001b[1;33m.\u001b[0m\u001b[0marange\u001b[0m\u001b[1;33m(\u001b[0m\u001b[1;36m1\u001b[0m\u001b[1;33m,\u001b[0m \u001b[1;36m900\u001b[0m\u001b[1;33m,\u001b[0m \u001b[1;36m10\u001b[0m\u001b[1;33m)\u001b[0m\u001b[1;33m\u001b[0m\u001b[1;33m\u001b[0m\u001b[0m\n\u001b[0;32m      3\u001b[0m \u001b[0mef\u001b[0m\u001b[1;33m.\u001b[0m\u001b[0mplot_timp\u001b[0m\u001b[1;33m(\u001b[0m\u001b[0mtau_range_1\u001b[0m\u001b[1;33m,\u001b[0m \u001b[0mtau_range_2\u001b[0m\u001b[1;33m,\u001b[0m \u001b[0ms_1\u001b[0m\u001b[1;33m,\u001b[0m \u001b[0maxh_y\u001b[0m\u001b[1;33m=\u001b[0m\u001b[1;36m9\u001b[0m\u001b[1;33m,\u001b[0m \u001b[0maxv_x\u001b[0m\u001b[1;33m=\u001b[0m\u001b[1;36m19\u001b[0m\u001b[1;33m,\u001b[0m \u001b[0mfigsize\u001b[0m\u001b[1;33m=\u001b[0m\u001b[1;33m(\u001b[0m\u001b[1;36m14\u001b[0m\u001b[1;33m,\u001b[0m\u001b[1;36m6\u001b[0m\u001b[1;33m)\u001b[0m\u001b[1;33m)\u001b[0m\u001b[1;33m\u001b[0m\u001b[1;33m\u001b[0m\u001b[0m\n",
      "\u001b[1;31mNameError\u001b[0m: name 'np' is not defined"
     ]
    }
   ],
   "source": [
    "tau_range_1 = np.arange(1, 250, 5)\n",
    "tau_range_2 = np.arange(1, 900, 10)\n",
    "ef.plot_timp(tau_range_1, tau_range_2, s_1, axh_y=9, axv_x=19, figsize=(14,6))\n"
   ]
  },
  {
   "cell_type": "markdown",
   "metadata": {},
   "source": [
    "##### TODO: improve\n",
    "As seen above, the implied time scale first rises sharply and then seems to level off. After lag time of $20 ps$,  $t_{impl}$ decreases slowly, then faster and later starts to fluctuate strongly. Hence, on the right side the focus was brought to the first $??? ps$.  \n",
    "\n",
    "The sharp rise on short time scales is due to the fact, that too many structural changes are wrongly mistaken for state transitions. \n",
    "\n",
    "Considering the implied time scales, calculated from the above state definition. A lag time of about $20 ps$ seems to be a reasonable choice, since around that value $t_{impl}$ is the most stable. "
   ]
  },
  {
   "cell_type": "markdown",
   "metadata": {},
   "source": [
    "# Geometrical cores"
   ]
  },
  {
   "cell_type": "markdown",
   "metadata": {},
   "source": [
    "**Reason for gemoetrical cores**\n",
    "* from Nagel paper\n",
    "\n",
    "* "
   ]
  },
  {
   "cell_type": "markdown",
   "metadata": {},
   "source": [
    "With the function `change_core` from *state_dicts.py* the set of rectangles can be modified, so that there is a gap between neigbouring state regions. It takes as an input the previously defined state dictionary **rect_dict_1** and a parameter **ds**, which defines the width of the gap (in radians) between the rectangles. It returns a dictionary with indices, specifying the new ractangles. \n",
    "Two more state dictionaries **rect_dict_2** and **rect_dict_3** are defined below and are visualized."
   ]
  },
  {
   "cell_type": "code",
   "execution_count": 18,
   "metadata": {
    "code_folding": []
   },
   "outputs": [
    {
     "data": {
      "image/png": "[encoded data removed]",
      "text/plain": [
       "<Figure size 864x432 with 2 Axes>"
      ]
     },
     "metadata": {
      "needs_background": "light"
     },
     "output_type": "display_data"
    }
   ],
   "source": [
    "# call change_core to shrink the rectangles\n",
    "ds_2 = 5/360*2*np.pi  # 5degrees\n",
    "rect_dict_2_core = state_dicts.change_core(rect_dict_1, ds=ds_2)\n",
    "\n",
    "# call change_core to shrink the rectangles\n",
    "ds_3 = 50/360*2*np.pi  # 45degrees\n",
    "rect_dict_3_core = state_dicts.change_core(rect_dict_1, ds=ds_3)\n",
    "\n",
    "fig, [ax1, ax2] = plt.subplots(1,2, figsize=(12,6))\n",
    "\n",
    "ef.visualize_states(rect_dict_2_core, phi, psi,ax=ax1, color_list=['r', 'g', 'y'])\n",
    "\n",
    "ef.visualize_states(rect_dict_3_core, phi, psi, ax=ax2, color_list=['r', 'g', 'y'])\n",
    "\n",
    "plt.tight_layout()\n",
    "plt.show()"
   ]
  },
  {
   "cell_type": "markdown",
   "metadata": {},
   "source": [
    "**TODO** Description of plots of core definition**"
   ]
  },
  {
   "cell_type": "markdown",
   "metadata": {},
   "source": [
    "Further, the the new state trajectories for the $s_2$ and $s_3$ for the state definitions 2 and 3 are defined, using the function `make_state_traj` as above. The parameters **core_def** is set to True, so the trajectory is checked for entries without state assignment. Here the previously visited state is inserted. "
   ]
  },
  {
   "cell_type": "code",
   "execution_count": 2,
   "metadata": {},
   "outputs": [
    {
     "ename": "NameError",
     "evalue": "name 'ef' is not defined",
     "output_type": "error",
     "traceback": [
      "\u001b[1;31m---------------------------------------------------------------------------\u001b[0m",
      "\u001b[1;31mNameError\u001b[0m                                 Traceback (most recent call last)",
      "\u001b[1;32m<ipython-input-2-58fc4ef22229>\u001b[0m in \u001b[0;36m<module>\u001b[1;34m\u001b[0m\n\u001b[1;32m----> 1\u001b[1;33m \u001b[0ms_2\u001b[0m \u001b[1;33m=\u001b[0m \u001b[0mef\u001b[0m\u001b[1;33m.\u001b[0m\u001b[0mmake_state_traj\u001b[0m\u001b[1;33m(\u001b[0m\u001b[0mphi\u001b[0m\u001b[1;33m,\u001b[0m \u001b[0mpsi\u001b[0m\u001b[1;33m,\u001b[0m \u001b[0mrect_dict_2_core\u001b[0m\u001b[1;33m,\u001b[0m \u001b[0mcore_def\u001b[0m\u001b[1;33m=\u001b[0m\u001b[1;32mTrue\u001b[0m\u001b[1;33m)\u001b[0m\u001b[1;33m\u001b[0m\u001b[1;33m\u001b[0m\u001b[0m\n\u001b[0m\u001b[0;32m      2\u001b[0m \u001b[0ms_3\u001b[0m \u001b[1;33m=\u001b[0m \u001b[0mef\u001b[0m\u001b[1;33m.\u001b[0m\u001b[0mmake_state_traj\u001b[0m\u001b[1;33m(\u001b[0m\u001b[0mphi\u001b[0m\u001b[1;33m,\u001b[0m \u001b[0mpsi\u001b[0m\u001b[1;33m,\u001b[0m \u001b[0mrect_dict_3_core\u001b[0m\u001b[1;33m,\u001b[0m \u001b[0mcore_def\u001b[0m\u001b[1;33m=\u001b[0m\u001b[1;32mTrue\u001b[0m\u001b[1;33m)\u001b[0m\u001b[1;33m\u001b[0m\u001b[1;33m\u001b[0m\u001b[0m\n",
      "\u001b[1;31mNameError\u001b[0m: name 'ef' is not defined"
     ]
    }
   ],
   "source": [
    "s_2 = ef.make_state_traj(phi, psi, rect_dict_2_core, core_def=True)\n",
    "s_3 = ef.make_state_traj(phi, psi, rect_dict_3_core, core_def=True)\n"
   ]
  },
  {
   "cell_type": "markdown",
   "metadata": {},
   "source": [
    "##### Below, the effect of geometrical coring on the implicit time scales is shown. "
   ]
  },
  {
   "cell_type": "code",
   "execution_count": 22,
   "metadata": {},
   "outputs": [
    {
     "data": {
      "image/png": "[encoded data removed]",
      "text/plain": [
       "<Figure size 432x288 with 1 Axes>"
      ]
     },
     "metadata": {
      "needs_background": "light"
     },
     "output_type": "display_data"
    }
   ],
   "source": [
    "tau_range = np.arange(1, 200, 5)\n",
    "ef.compare_timp(tau_range, [s_1, s_2, s_3], ls=':', marker='o')"
   ]
  },
  {
   "cell_type": "markdown",
   "metadata": {},
   "source": [
    "TODO: \n",
    "Comment on the better values for shorter lag times, since fluctations at borders of states are not counted as state transitions anymore. Fluctuations are in terms of the trajectory in the phi/psi plane."
   ]
  },
  {
   "cell_type": "markdown",
   "metadata": {},
   "source": [
    "# Validation of Markov State Model"
   ]
  },
  {
   "cell_type": "markdown",
   "metadata": {},
   "source": [
    "Infor about validation"
   ]
  },
  {
   "cell_type": "markdown",
   "metadata": {},
   "source": [
    "##### Calculation of validation data\n",
    "The function `calc_MSM_validation_data` takes as an input a list, `n_tau_list`, with lag times, represented as integer multiples of the time step $dt$ between trajectory frames. It also takes in a state trajectory, `s`. The time column of `s` is converted, so that the time is also represented in integer multiples of $dt$. For every lag \"time\" $n_{tau}$ in `n_tau_list`, a list with all multiples, $m$, of $n_{tau}$ is determined, so that for $m\\cdot n_{tau}$ there is also an entry in `s`.  \n",
    "For all of these multiples, the transition matrix $T^m(n_{tau})$ is calculated and stored in an numpy array. These arrays (one for every $n_{tau}$) are stored in a dictionary, `tau_data`. This dictionary also contains a list of $m\\cdot n_{tau}$, so that the transition matrices can be assigned to a point in time.  \n",
    "  \n",
    "The collection of multiples $m(n_{tau}$ gives a subset of the time points in `s`. The reference data is calculated for every time point $n_t$ for which at least one transition matrix $T^m(n_{tau})$ was calculated, with $m\\cdot n_{tau} = n_t$. This list of $n_t$ together with the calculated transition matrices $T(n_t)$ is stored in another list called `ref_data`. The function returns `ref_data` and `tau_data`.  \n",
    "  \n",
    "   \n",
    "This data set is calculated for all there state definitions. The function `plot_MSM_val` takes a list with three data sets (one for each state definitions) and plots them on a (3x3) grid. For each state definition the three diagonal elements of the transition matrices are compared. (!!! describe above why diagonal elements and what probability those are.)"
   ]
  },
  {
   "cell_type": "code",
   "execution_count": 1,
   "metadata": {
    "scrolled": false
   },
   "outputs": [
    {
     "ename": "NameError",
     "evalue": "name 'ef' is not defined",
     "output_type": "error",
     "traceback": [
      "\u001b[1;31m---------------------------------------------------------------------------\u001b[0m",
      "\u001b[1;31mNameError\u001b[0m                                 Traceback (most recent call last)",
      "\u001b[1;32m<ipython-input-1-5378f5407afc>\u001b[0m in \u001b[0;36m<module>\u001b[1;34m\u001b[0m\n\u001b[0;32m      5\u001b[0m \u001b[1;33m\u001b[0m\u001b[0m\n\u001b[0;32m      6\u001b[0m \u001b[1;31m# calculate the data sets for all three state definitions\u001b[0m\u001b[1;33m\u001b[0m\u001b[1;33m\u001b[0m\u001b[1;33m\u001b[0m\u001b[0m\n\u001b[1;32m----> 7\u001b[1;33m \u001b[0mdata_1\u001b[0m \u001b[1;33m=\u001b[0m \u001b[0mef\u001b[0m\u001b[1;33m.\u001b[0m\u001b[0mcalc_MSM_validation_data\u001b[0m\u001b[1;33m(\u001b[0m\u001b[0mn_tau_list\u001b[0m\u001b[1;33m,\u001b[0m \u001b[0ms_1\u001b[0m\u001b[1;33m,\u001b[0m \u001b[1;36m3\u001b[0m\u001b[1;33m)\u001b[0m\u001b[1;33m\u001b[0m\u001b[1;33m\u001b[0m\u001b[0m\n\u001b[0m\u001b[0;32m      8\u001b[0m \u001b[1;33m\u001b[0m\u001b[0m\n\u001b[0;32m      9\u001b[0m \u001b[0mdata_2\u001b[0m \u001b[1;33m=\u001b[0m \u001b[0mef\u001b[0m\u001b[1;33m.\u001b[0m\u001b[0mcalc_MSM_validation_data\u001b[0m\u001b[1;33m(\u001b[0m\u001b[0mn_tau_list\u001b[0m\u001b[1;33m,\u001b[0m \u001b[0ms_2\u001b[0m\u001b[1;33m,\u001b[0m \u001b[1;36m3\u001b[0m\u001b[1;33m)\u001b[0m\u001b[1;33m\u001b[0m\u001b[1;33m\u001b[0m\u001b[0m\n",
      "\u001b[1;31mNameError\u001b[0m: name 'ef' is not defined"
     ]
    }
   ],
   "source": [
    "# create a list of lag times for the calculation of the MSM validation data\n",
    "tau_list = [1, 20, 50] # in ps \n",
    "dt = 0.2 # ps \n",
    "n_tau_list = [int(tau/dt) for tau in tau_list]\n",
    "\n",
    "# calculate the data sets for all three state definitions\n",
    "data_1 = ef.calc_MSM_validation_data(n_tau_list, s_1, 3)\n",
    "\n",
    "data_2 = ef.calc_MSM_validation_data(n_tau_list, s_2, 3)\n",
    "\n",
    "data_3 = ef.calc_MSM_validation_data(n_tau_list, s_3, 3)\n",
    "\n",
    "data_matrix = np.array([data_1, data_2, data_3])\n"
   ]
  },
  {
   "cell_type": "code",
   "execution_count": null,
   "metadata": {},
   "outputs": [],
   "source": [
    "ef.plot_MSM_val(data_matrix)"
   ]
  },
  {
   "cell_type": "code",
   "execution_count": null,
   "metadata": {},
   "outputs": [],
   "source": []
  }
 ],
 "metadata": {
  "kernelspec": {
   "display_name": "Python 3",
   "language": "python",
   "name": "python3"
  },
  "language_info": {
   "codemirror_mode": {
    "name": "ipython",
    "version": 3
   },
   "file_extension": ".py",
   "mimetype": "text/x-python",
   "name": "python",
   "nbconvert_exporter": "python",
   "pygments_lexer": "ipython3",
   "version": "3.8.2"
  },
  "latex_envs": {
   "LaTeX_envs_menu_present": true,
   "autoclose": true,
   "autocomplete": false,
   "bibliofile": "biblio.bib",
   "cite_by": "apalike",
   "current_citInitial": 1,
   "eqLabelWithNumbers": true,
   "eqNumInitial": 1,
   "hotkeys": {
    "equation": "Ctrl-E",
    "itemize": "Ctrl-I"
   },
   "labels_anchors": false,
   "latex_user_defs": false,
   "report_style_numbering": false,
   "user_envs_cfg": false
  },
  "toc": {
   "base_numbering": 1,
   "nav_menu": {},
   "number_sections": true,
   "sideBar": true,
   "skip_h1_title": false,
   "title_cell": "Table of Contents",
   "title_sidebar": "Contents",
   "toc_cell": false,
   "toc_position": {},
   "toc_section_display": true,
   "toc_window_display": false
  }
 },
 "nbformat": 4,
 "nbformat_minor": 4
}
